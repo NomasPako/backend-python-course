{
 "cells": [
  {
   "cell_type": "code",
   "execution_count": 1,
   "id": "346d055d-2e06-402b-99a4-b8ee42c54769",
   "metadata": {},
   "outputs": [
    {
     "name": "stdout",
     "output_type": "stream",
     "text": [
      "Hola, mundo\n"
     ]
    }
   ],
   "source": [
    "print(\"Hola, mundo\")"
   ]
  },
  {
   "cell_type": "code",
   "execution_count": 2,
   "id": "f7d18b52-a0dd-46ae-8f9d-9f4ba55af038",
   "metadata": {},
   "outputs": [
    {
     "name": "stdout",
     "output_type": "stream",
     "text": [
      "jelo guol\n"
     ]
    }
   ],
   "source": [
    "print(\"jelo guol\")"
   ]
  },
  {
   "cell_type": "code",
   "execution_count": null,
   "id": "57eca363-00af-44c8-8319-04a6c13bd11d",
   "metadata": {},
   "outputs": [],
   "source": []
  }
 ],
 "metadata": {
  "kernelspec": {
   "display_name": "Python 3 (ipykernel)",
   "language": "python",
   "name": "python3"
  },
  "language_info": {
   "codemirror_mode": {
    "name": "ipython",
    "version": 3
   },
   "file_extension": ".py",
   "mimetype": "text/x-python",
   "name": "python",
   "nbconvert_exporter": "python",
   "pygments_lexer": "ipython3",
   "version": "3.11.7"
  }
 },
 "nbformat": 4,
 "nbformat_minor": 5
}
