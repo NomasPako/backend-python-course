{
 "cells": [
  {
   "cell_type": "markdown",
   "id": "73d7e224-6444-47de-85cd-5f1a24990aad",
   "metadata": {},
   "source": [
    "# Palabras reservadas en Python"
   ]
  },
  {
   "cell_type": "code",
   "execution_count": 3,
   "id": "608b3774-92f4-485c-9eea-ed9e00c9d862",
   "metadata": {},
   "outputs": [
    {
     "name": "stdout",
     "output_type": "stream",
     "text": [
      "\n",
      "Here is a list of the Python keywords.  Enter any keyword to get more help.\n",
      "\n",
      "False               class               from                or\n",
      "None                continue            global              pass\n",
      "True                def                 if                  raise\n",
      "and                 del                 import              return\n",
      "as                  elif                in                  try\n",
      "assert              else                is                  while\n",
      "async               except              lambda              with\n",
      "await               finally             nonlocal            yield\n",
      "break               for                 not                 \n",
      "\n"
     ]
    }
   ],
   "source": [
    "help(\"keywords\")"
   ]
  },
  {
   "cell_type": "markdown",
   "id": "0ea7e400-c236-4459-9fe4-1976092ef89e",
   "metadata": {},
   "source": [
    "# Caracteres de escape en Python"
   ]
  },
  {
   "cell_type": "code",
   "execution_count": 4,
   "id": "5e7252ce-275d-4f3d-8521-ed73f5760989",
   "metadata": {},
   "outputs": [
    {
     "data": {
      "text/plain": [
       "\"'\""
      ]
     },
     "execution_count": 4,
     "metadata": {},
     "output_type": "execute_result"
    }
   ],
   "source": [
    "\"\\'\" # Comilla simple (single quote)"
   ]
  },
  {
   "cell_type": "code",
   "execution_count": 5,
   "id": "3fd910c9-75c3-4b46-8232-082cb777aefc",
   "metadata": {},
   "outputs": [
    {
     "data": {
      "text/plain": [
       "\"'\""
      ]
     },
     "execution_count": 5,
     "metadata": {},
     "output_type": "execute_result"
    }
   ],
   "source": [
    "\"'\""
   ]
  },
  {
   "cell_type": "code",
   "execution_count": 6,
   "id": "16720b42-9dc3-4d3c-9172-7764aeb9d5b4",
   "metadata": {},
   "outputs": [
    {
     "data": {
      "text/plain": [
       "\"'\""
      ]
     },
     "execution_count": 6,
     "metadata": {},
     "output_type": "execute_result"
    }
   ],
   "source": [
    "'\\''"
   ]
  },
  {
   "cell_type": "code",
   "execution_count": 7,
   "id": "92fe951d-0fdd-4eca-9958-5dafc7c59ce3",
   "metadata": {},
   "outputs": [
    {
     "ename": "SyntaxError",
     "evalue": "incomplete input (3857640367.py, line 1)",
     "output_type": "error",
     "traceback": [
      "\u001b[1;36m  Cell \u001b[1;32mIn[7], line 1\u001b[1;36m\u001b[0m\n\u001b[1;33m    '''\u001b[0m\n\u001b[1;37m    ^\u001b[0m\n\u001b[1;31mSyntaxError\u001b[0m\u001b[1;31m:\u001b[0m incomplete input\n"
     ]
    }
   ],
   "source": [
    "'''"
   ]
  },
  {
   "cell_type": "code",
   "execution_count": 8,
   "id": "23db03dc-2045-4de9-a538-f615cac23135",
   "metadata": {},
   "outputs": [
    {
     "data": {
      "text/plain": [
       "'\"'"
      ]
     },
     "execution_count": 8,
     "metadata": {},
     "output_type": "execute_result"
    }
   ],
   "source": [
    "\"\\\"\" # Comilla doble (double quote)"
   ]
  },
  {
   "cell_type": "code",
   "execution_count": 9,
   "id": "ff66006a-19d1-4c03-924c-97cc07ac7763",
   "metadata": {},
   "outputs": [
    {
     "ename": "SyntaxError",
     "evalue": "incomplete input (969763094.py, line 1)",
     "output_type": "error",
     "traceback": [
      "\u001b[1;36m  Cell \u001b[1;32mIn[9], line 1\u001b[1;36m\u001b[0m\n\u001b[1;33m    \"\"\"\u001b[0m\n\u001b[1;37m    ^\u001b[0m\n\u001b[1;31mSyntaxError\u001b[0m\u001b[1;31m:\u001b[0m incomplete input\n"
     ]
    }
   ],
   "source": [
    "\"\"\""
   ]
  },
  {
   "cell_type": "code",
   "execution_count": 10,
   "id": "376208c5-f404-4c86-b255-1f3cd6ced0fb",
   "metadata": {},
   "outputs": [
    {
     "data": {
      "text/plain": [
       "'\"\"\"'"
      ]
     },
     "execution_count": 10,
     "metadata": {},
     "output_type": "execute_result"
    }
   ],
   "source": [
    "\"\\\"\\\"\\\"\""
   ]
  },
  {
   "cell_type": "code",
   "execution_count": 11,
   "id": "78e46840-1e7e-4349-8790-5614d6122bb5",
   "metadata": {},
   "outputs": [
    {
     "data": {
      "text/plain": [
       "'\\n'"
      ]
     },
     "execution_count": 11,
     "metadata": {},
     "output_type": "execute_result"
    }
   ],
   "source": [
    "\"\\n\" # Salto de línea (new line)"
   ]
  },
  {
   "cell_type": "code",
   "execution_count": 13,
   "id": "7d0eb47b-8c97-4ced-87c1-664023a98229",
   "metadata": {},
   "outputs": [
    {
     "name": "stdout",
     "output_type": "stream",
     "text": [
      "Backend Python de EBAC\n"
     ]
    }
   ],
   "source": [
    "my_course = \"Backend Python de EBAC\"\n",
    "print(my_course)"
   ]
  },
  {
   "cell_type": "code",
   "execution_count": 14,
   "id": "4d3535b6-e866-4769-a5b4-2eabf4ed1ca0",
   "metadata": {},
   "outputs": [
    {
     "name": "stdout",
     "output_type": "stream",
     "text": [
      "Backend Python\n",
      "de EBAC\n"
     ]
    }
   ],
   "source": [
    "my_course = \"Backend Python\\nde EBAC\"\n",
    "print(my_course)"
   ]
  },
  {
   "cell_type": "code",
   "execution_count": 15,
   "id": "956fdb02-0b61-48ee-80fc-2323c3708899",
   "metadata": {},
   "outputs": [
    {
     "data": {
      "text/plain": [
       "'\\t'"
      ]
     },
     "execution_count": 15,
     "metadata": {},
     "output_type": "execute_result"
    }
   ],
   "source": [
    "\"\\t\" # Tabular (tab)"
   ]
  },
  {
   "cell_type": "code",
   "execution_count": 16,
   "id": "d8a2d6e4-ba54-43f2-bc6c-c0c508d60cf0",
   "metadata": {},
   "outputs": [
    {
     "name": "stdout",
     "output_type": "stream",
     "text": [
      "Backend Python de EBAC\n"
     ]
    }
   ],
   "source": [
    "my_course = \"Backend Python de EBAC\"\n",
    "print(my_course)"
   ]
  },
  {
   "cell_type": "code",
   "execution_count": 19,
   "id": "01104416-9cc4-4b19-ba68-737b7ea72fec",
   "metadata": {},
   "outputs": [
    {
     "name": "stdout",
     "output_type": "stream",
     "text": [
      "Backend Python de\tEBAC\n"
     ]
    }
   ],
   "source": [
    "my_course = \"Backend Python de\\tEBAC\"\n",
    "print(my_course)"
   ]
  },
  {
   "cell_type": "code",
   "execution_count": 20,
   "id": "df59c1db-803a-42d0-9357-07f8286a6124",
   "metadata": {},
   "outputs": [
    {
     "data": {
      "text/plain": [
       "'\\r'"
      ]
     },
     "execution_count": 20,
     "metadata": {},
     "output_type": "execute_result"
    }
   ],
   "source": [
    "\"\\r\" # Retorno de carro xd (carriage return)"
   ]
  },
  {
   "cell_type": "code",
   "execution_count": 21,
   "id": "32075542-50c2-4371-8036-dbe1f46e936e",
   "metadata": {},
   "outputs": [
    {
     "name": "stdout",
     "output_type": "stream",
     "text": [
      "Backend Python de EBAC\n"
     ]
    }
   ],
   "source": [
    "my_course = \"Backend Python de EBAC\"\n",
    "print(my_course)"
   ]
  },
  {
   "cell_type": "code",
   "execution_count": 36,
   "id": "03daf40e-0bf0-4dd7-b8cf-d129c408eba5",
   "metadata": {},
   "outputs": [
    {
     "name": "stdout",
     "output_type": "stream",
     "text": [
      "Python de EBAC\n"
     ]
    }
   ],
   "source": [
    "my_course = \"Backend\\rPython de EBAC\"\n",
    "print(my_course)"
   ]
  },
  {
   "cell_type": "code",
   "execution_count": 23,
   "id": "cf1613c8-37a9-4a21-9a1c-6c77ba63635a",
   "metadata": {},
   "outputs": [
    {
     "name": "stdout",
     "output_type": "stream",
     "text": [
      "de EBAC\n"
     ]
    }
   ],
   "source": [
    "my_course = \"Backend\\rPython\\rde EBAC\"\n",
    "print(my_course)"
   ]
  },
  {
   "cell_type": "code",
   "execution_count": 24,
   "id": "b72bea03-8b02-4549-9a28-37415d881a4b",
   "metadata": {},
   "outputs": [
    {
     "data": {
      "text/plain": [
       "'\\x08'"
      ]
     },
     "execution_count": 24,
     "metadata": {},
     "output_type": "execute_result"
    }
   ],
   "source": [
    "\"\\b\" # Retorno (backspace)"
   ]
  },
  {
   "cell_type": "code",
   "execution_count": 25,
   "id": "e6a5a547-ed2e-4cd4-82a1-fed0a390329e",
   "metadata": {},
   "outputs": [
    {
     "name": "stdout",
     "output_type": "stream",
     "text": [
      "Backend Python de EBAC\n"
     ]
    }
   ],
   "source": [
    "my_course = \"Backend Python de EBAC\"\n",
    "print(my_course)"
   ]
  },
  {
   "cell_type": "code",
   "execution_count": 26,
   "id": "6388d4c1-e3ca-43e0-80b4-7ed8a022c7c3",
   "metadata": {},
   "outputs": [
    {
     "name": "stdout",
     "output_type": "stream",
     "text": [
      "BackenPython de EBAC\n"
     ]
    }
   ],
   "source": [
    "my_course = \"Backend\\bPython de EBAC\"\n",
    "print(my_course)"
   ]
  },
  {
   "cell_type": "code",
   "execution_count": 27,
   "id": "51c510b4-d214-42ed-9394-457a0be34a6f",
   "metadata": {},
   "outputs": [
    {
     "name": "stdout",
     "output_type": "stream",
     "text": [
      "BackenPython de EBA\n"
     ]
    }
   ],
   "source": [
    "my_course = \"Backend\\bPython de EBAC\\b\"\n",
    "print(my_course)"
   ]
  },
  {
   "cell_type": "markdown",
   "id": "a28ce35d-9205-480f-aeed-62607efac58e",
   "metadata": {},
   "source": [
    "# Escapes de caracteres en Octal y Hexadecimal"
   ]
  },
  {
   "cell_type": "code",
   "execution_count": 28,
   "id": "625303fd-2da1-412c-8286-459a348a1250",
   "metadata": {},
   "outputs": [
    {
     "name": "stdout",
     "output_type": "stream",
     "text": [
      "Backend Python de EBA\n"
     ]
    }
   ],
   "source": [
    "my_course = \"Backend Python de EBAC\\b\\b\\b\"\n",
    "print(my_course)"
   ]
  },
  {
   "cell_type": "markdown",
   "id": "eb17e68e-694d-4ea0-b2b4-57db75a024f7",
   "metadata": {
    "jp-MarkdownHeadingCollapsed": true
   },
   "source": [
    "## Función eval()"
   ]
  },
  {
   "cell_type": "code",
   "execution_count": 37,
   "id": "e7ba38c3-efae-4c4c-8e0e-5eafbaa05bf0",
   "metadata": {},
   "outputs": [
    {
     "name": "stdout",
     "output_type": "stream",
     "text": [
      "22\n"
     ]
    }
   ],
   "source": [
    "my_number = 22\n",
    "print(my_number)"
   ]
  },
  {
   "cell_type": "code",
   "execution_count": 42,
   "id": "04515a92-8740-418b-aff8-a32c1ac4d712",
   "metadata": {},
   "outputs": [
    {
     "name": "stdout",
     "output_type": "stream",
     "text": [
      "1022\n"
     ]
    }
   ],
   "source": [
    "my_numer = 22\n",
    "print(eval(\"my_number+1000\"))"
   ]
  },
  {
   "cell_type": "code",
   "execution_count": 43,
   "id": "eb9e1412-3cab-4876-b91d-005f7f954b70",
   "metadata": {},
   "outputs": [
    {
     "name": "stdin",
     "output_type": "stream",
     "text": [
      "Ingrese un número:  123\n"
     ]
    }
   ],
   "source": [
    "my_input = input(\"Ingrese un número: \")"
   ]
  },
  {
   "cell_type": "code",
   "execution_count": 44,
   "id": "8bd6758a-69ad-42ab-8a61-e840c7447739",
   "metadata": {},
   "outputs": [
    {
     "data": {
      "text/plain": [
       "'123'"
      ]
     },
     "execution_count": 44,
     "metadata": {},
     "output_type": "execute_result"
    }
   ],
   "source": [
    "my_input"
   ]
  },
  {
   "cell_type": "code",
   "execution_count": 45,
   "id": "bb8cd4b7-2ff6-4edd-a7ac-36c52d6d94cd",
   "metadata": {},
   "outputs": [
    {
     "data": {
      "text/plain": [
       "123"
      ]
     },
     "execution_count": 45,
     "metadata": {},
     "output_type": "execute_result"
    }
   ],
   "source": [
    "eval(my_input)"
   ]
  },
  {
   "cell_type": "code",
   "execution_count": 46,
   "id": "d33636b2-d7a5-43cc-8d52-b860586c24e2",
   "metadata": {},
   "outputs": [
    {
     "name": "stdin",
     "output_type": "stream",
     "text": [
      "Ingrese un número:  345\n"
     ]
    },
    {
     "name": "stdout",
     "output_type": "stream",
     "text": [
      "345\n",
      "<class 'str'>\n"
     ]
    }
   ],
   "source": [
    "my_input = input(\"Ingrese un número: \")\n",
    "print(my_input)\n",
    "print(type(my_input))\n",
    "# Cadena / String"
   ]
  },
  {
   "cell_type": "code",
   "execution_count": 47,
   "id": "367d8199-0aad-450d-9a11-9323d3e1b04a",
   "metadata": {},
   "outputs": [
    {
     "name": "stdin",
     "output_type": "stream",
     "text": [
      "Ingrese un número:  678\n"
     ]
    },
    {
     "name": "stdout",
     "output_type": "stream",
     "text": [
      "678\n",
      "<class 'int'>\n"
     ]
    }
   ],
   "source": [
    "my_input = eval(input(\"Ingrese un número: \"))\n",
    "print(my_input)\n",
    "print(type(my_input))\n",
    "# Entero / Int"
   ]
  },
  {
   "cell_type": "markdown",
   "id": "3c6aca23-ba01-49f2-b54c-4fd1aa4b73c7",
   "metadata": {},
   "source": [
    "# Función range() y xrange()"
   ]
  },
  {
   "cell_type": "markdown",
   "id": "f942ffb7-b793-4726-973e-3bfcb3510535",
   "metadata": {},
   "source": [
    "### range(start, stop)"
   ]
  },
  {
   "cell_type": "code",
   "execution_count": 49,
   "id": "a4eaf6f5-63ae-4477-86cf-28d1d9499eb1",
   "metadata": {},
   "outputs": [],
   "source": [
    "x = range(10)"
   ]
  },
  {
   "cell_type": "code",
   "execution_count": 50,
   "id": "1b181190-1eb2-4325-9ec3-453ccbdb945a",
   "metadata": {},
   "outputs": [
    {
     "data": {
      "text/plain": [
       "range(0, 10)"
      ]
     },
     "execution_count": 50,
     "metadata": {},
     "output_type": "execute_result"
    }
   ],
   "source": [
    "x"
   ]
  },
  {
   "cell_type": "code",
   "execution_count": 51,
   "id": "c64ad6b1-bff1-4d18-ba42-23194d9363e9",
   "metadata": {},
   "outputs": [
    {
     "name": "stdout",
     "output_type": "stream",
     "text": [
      "0\n",
      "1\n",
      "2\n",
      "3\n",
      "4\n",
      "5\n",
      "6\n",
      "7\n",
      "8\n",
      "9\n"
     ]
    }
   ],
   "source": [
    "for number in x:\n",
    "    print(number)"
   ]
  },
  {
   "cell_type": "code",
   "execution_count": 54,
   "id": "2f3227c0-bda9-488f-a3e3-2db4fe7a6d47",
   "metadata": {},
   "outputs": [
    {
     "name": "stdout",
     "output_type": "stream",
     "text": [
      "3\n",
      "4\n",
      "5\n"
     ]
    }
   ],
   "source": [
    "x = range(3, 6)\n",
    "for number in x:\n",
    "    print(number)"
   ]
  },
  {
   "cell_type": "code",
   "execution_count": 56,
   "id": "05fded2c-7b2a-4368-99ff-b01ec74fe14b",
   "metadata": {},
   "outputs": [
    {
     "name": "stdout",
     "output_type": "stream",
     "text": [
      "3\n",
      "5\n",
      "7\n",
      "9\n",
      "11\n",
      "13\n",
      "15\n",
      "17\n",
      "19\n"
     ]
    }
   ],
   "source": [
    "x = range(3, 20, 2)\n",
    "for number in x:\n",
    "    print(number)"
   ]
  },
  {
   "cell_type": "markdown",
   "id": "f6cccdd4-779f-498c-aa5c-962e36de3f8d",
   "metadata": {},
   "source": [
    "# Mutabilidad e inmutabilidad"
   ]
  },
  {
   "cell_type": "code",
   "execution_count": 58,
   "id": "851cf293-272a-426e-b0cd-9e679b026d60",
   "metadata": {},
   "outputs": [],
   "source": [
    "tuplei = (1, 2, 3, 4, 5)"
   ]
  },
  {
   "cell_type": "code",
   "execution_count": 59,
   "id": "824d3611-888e-47d8-be16-901ae4872c0f",
   "metadata": {},
   "outputs": [
    {
     "data": {
      "text/plain": [
       "(1, 2, 3, 4, 5)"
      ]
     },
     "execution_count": 59,
     "metadata": {},
     "output_type": "execute_result"
    }
   ],
   "source": [
    "tuplei"
   ]
  },
  {
   "cell_type": "code",
   "execution_count": 60,
   "id": "900694c5-3ad4-40e7-8ccb-17d8cdd56f0a",
   "metadata": {},
   "outputs": [
    {
     "ename": "TypeError",
     "evalue": "'tuple' object does not support item assignment",
     "output_type": "error",
     "traceback": [
      "\u001b[1;31m---------------------------------------------------------------------------\u001b[0m",
      "\u001b[1;31mTypeError\u001b[0m                                 Traceback (most recent call last)",
      "Cell \u001b[1;32mIn[60], line 2\u001b[0m\n\u001b[0;32m      1\u001b[0m \u001b[38;5;66;03m# Inmutabilidad\u001b[39;00m\n\u001b[1;32m----> 2\u001b[0m tuplei[\u001b[38;5;241m0\u001b[39m] \u001b[38;5;241m=\u001b[39m \u001b[38;5;241m10\u001b[39m\n",
      "\u001b[1;31mTypeError\u001b[0m: 'tuple' object does not support item assignment"
     ]
    }
   ],
   "source": [
    "# Inmutabilidad\n",
    "tuplei[0] = 10"
   ]
  },
  {
   "cell_type": "code",
   "execution_count": 61,
   "id": "b5ea68c9-c1db-4207-82ef-69d8f923bbc8",
   "metadata": {},
   "outputs": [],
   "source": [
    "my_string = \"Aprendiendo sobre inmutabilidad\""
   ]
  },
  {
   "cell_type": "code",
   "execution_count": 62,
   "id": "b6070aa6-0f4a-41b4-a06e-98d1f0566c78",
   "metadata": {},
   "outputs": [
    {
     "data": {
      "text/plain": [
       "'Aprendiendo sobre inmutabilidad'"
      ]
     },
     "execution_count": 62,
     "metadata": {},
     "output_type": "execute_result"
    }
   ],
   "source": [
    "my_string"
   ]
  },
  {
   "cell_type": "code",
   "execution_count": 63,
   "id": "69f702ae-d303-46ba-973b-19eb13eced3a",
   "metadata": {},
   "outputs": [
    {
     "ename": "TypeError",
     "evalue": "'str' object does not support item assignment",
     "output_type": "error",
     "traceback": [
      "\u001b[1;31m---------------------------------------------------------------------------\u001b[0m",
      "\u001b[1;31mTypeError\u001b[0m                                 Traceback (most recent call last)",
      "Cell \u001b[1;32mIn[63], line 1\u001b[0m\n\u001b[1;32m----> 1\u001b[0m my_string[\u001b[38;5;241m0\u001b[39m] \u001b[38;5;241m=\u001b[39m \u001b[38;5;124m\"\u001b[39m\u001b[38;5;124ma\u001b[39m\u001b[38;5;124m\"\u001b[39m\n",
      "\u001b[1;31mTypeError\u001b[0m: 'str' object does not support item assignment"
     ]
    }
   ],
   "source": [
    "my_string[0] = \"a\""
   ]
  },
  {
   "cell_type": "code",
   "execution_count": 64,
   "id": "572b02ca-f219-4193-9467-eae46764b62e",
   "metadata": {},
   "outputs": [],
   "source": [
    "colors = [\"rojo\", \"azul\", \"verde\", \"negro\"]"
   ]
  },
  {
   "cell_type": "code",
   "execution_count": 65,
   "id": "b3ed71d1-43f5-417a-bb33-94e2ed84acc8",
   "metadata": {},
   "outputs": [
    {
     "data": {
      "text/plain": [
       "['rojo', 'azul', 'verde', 'negro']"
      ]
     },
     "execution_count": 65,
     "metadata": {},
     "output_type": "execute_result"
    }
   ],
   "source": [
    "colors"
   ]
  },
  {
   "cell_type": "code",
   "execution_count": 66,
   "id": "94d4ba23-1b72-4211-a340-e8d8a61c4564",
   "metadata": {},
   "outputs": [],
   "source": [
    "colors[0] = \"blanco\""
   ]
  },
  {
   "cell_type": "code",
   "execution_count": 67,
   "id": "0cfd6031-4586-40bb-ac9a-ec38aef5c45f",
   "metadata": {},
   "outputs": [
    {
     "data": {
      "text/plain": [
       "['blanco', 'azul', 'verde', 'negro']"
      ]
     },
     "execution_count": 67,
     "metadata": {},
     "output_type": "execute_result"
    }
   ],
   "source": [
    "colors"
   ]
  },
  {
   "cell_type": "markdown",
   "id": "4d39fac4-1232-4c8d-9dfa-4f948c62abce",
   "metadata": {},
   "source": [
    "# Funcion print()"
   ]
  },
  {
   "cell_type": "code",
   "execution_count": 68,
   "id": "c0432d7d-842b-4a57-aa58-a645b7aa00c8",
   "metadata": {},
   "outputs": [
    {
     "name": "stdout",
     "output_type": "stream",
     "text": [
      "El valor de my_variable es:  567\n"
     ]
    }
   ],
   "source": [
    "my_variable = 567\n",
    "print(\"El valor de my_variable es: \", my_variable)"
   ]
  },
  {
   "cell_type": "code",
   "execution_count": 70,
   "id": "545a7b74-627c-4583-9378-6474b27ada97",
   "metadata": {},
   "outputs": [
    {
     "name": "stdout",
     "output_type": "stream",
     "text": [
      "El valor de la variable 'd' es:  800\n"
     ]
    }
   ],
   "source": [
    "a = 100\n",
    "b = 500\n",
    "c = 200\n",
    "d = a+b+c\n",
    "print(\"El valor de la variable \\'d\\' es: \", d)"
   ]
  },
  {
   "cell_type": "code",
   "execution_count": 71,
   "id": "0f7ec198-5435-4532-bf2f-e20b8e6698b6",
   "metadata": {},
   "outputs": [
    {
     "name": "stdout",
     "output_type": "stream",
     "text": [
      "Help on built-in function print in module builtins:\n",
      "\n",
      "print(*args, sep=' ', end='\\n', file=None, flush=False)\n",
      "    Prints the values to a stream, or to sys.stdout by default.\n",
      "    \n",
      "    sep\n",
      "      string inserted between values, default a space.\n",
      "    end\n",
      "      string appended after the last value, default a newline.\n",
      "    file\n",
      "      a file-like object (stream); defaults to the current sys.stdout.\n",
      "    flush\n",
      "      whether to forcibly flush the stream.\n",
      "\n"
     ]
    }
   ],
   "source": [
    "import builtins\n",
    "help(builtins.print)"
   ]
  },
  {
   "cell_type": "code",
   "execution_count": 72,
   "id": "10e54277-2ce4-4b8f-b30e-77cc2c1bb1a9",
   "metadata": {},
   "outputs": [
    {
     "data": {
      "text/plain": [
       "['ArithmeticError',\n",
       " 'AssertionError',\n",
       " 'AttributeError',\n",
       " 'BaseException',\n",
       " 'BaseExceptionGroup',\n",
       " 'BlockingIOError',\n",
       " 'BrokenPipeError',\n",
       " 'BufferError',\n",
       " 'BytesWarning',\n",
       " 'ChildProcessError',\n",
       " 'ConnectionAbortedError',\n",
       " 'ConnectionError',\n",
       " 'ConnectionRefusedError',\n",
       " 'ConnectionResetError',\n",
       " 'DeprecationWarning',\n",
       " 'EOFError',\n",
       " 'Ellipsis',\n",
       " 'EncodingWarning',\n",
       " 'EnvironmentError',\n",
       " 'Exception',\n",
       " 'ExceptionGroup',\n",
       " 'False',\n",
       " 'FileExistsError',\n",
       " 'FileNotFoundError',\n",
       " 'FloatingPointError',\n",
       " 'FutureWarning',\n",
       " 'GeneratorExit',\n",
       " 'IOError',\n",
       " 'ImportError',\n",
       " 'ImportWarning',\n",
       " 'IndentationError',\n",
       " 'IndexError',\n",
       " 'InterruptedError',\n",
       " 'IsADirectoryError',\n",
       " 'KeyError',\n",
       " 'KeyboardInterrupt',\n",
       " 'LookupError',\n",
       " 'MemoryError',\n",
       " 'ModuleNotFoundError',\n",
       " 'NameError',\n",
       " 'None',\n",
       " 'NotADirectoryError',\n",
       " 'NotImplemented',\n",
       " 'NotImplementedError',\n",
       " 'OSError',\n",
       " 'OverflowError',\n",
       " 'PendingDeprecationWarning',\n",
       " 'PermissionError',\n",
       " 'ProcessLookupError',\n",
       " 'RecursionError',\n",
       " 'ReferenceError',\n",
       " 'ResourceWarning',\n",
       " 'RuntimeError',\n",
       " 'RuntimeWarning',\n",
       " 'StopAsyncIteration',\n",
       " 'StopIteration',\n",
       " 'SyntaxError',\n",
       " 'SyntaxWarning',\n",
       " 'SystemError',\n",
       " 'SystemExit',\n",
       " 'TabError',\n",
       " 'TimeoutError',\n",
       " 'True',\n",
       " 'TypeError',\n",
       " 'UnboundLocalError',\n",
       " 'UnicodeDecodeError',\n",
       " 'UnicodeEncodeError',\n",
       " 'UnicodeError',\n",
       " 'UnicodeTranslateError',\n",
       " 'UnicodeWarning',\n",
       " 'UserWarning',\n",
       " 'ValueError',\n",
       " 'Warning',\n",
       " 'WindowsError',\n",
       " 'ZeroDivisionError',\n",
       " '__IPYTHON__',\n",
       " '__build_class__',\n",
       " '__debug__',\n",
       " '__doc__',\n",
       " '__import__',\n",
       " '__loader__',\n",
       " '__name__',\n",
       " '__package__',\n",
       " '__spec__',\n",
       " 'abs',\n",
       " 'aiter',\n",
       " 'all',\n",
       " 'anext',\n",
       " 'any',\n",
       " 'ascii',\n",
       " 'bin',\n",
       " 'bool',\n",
       " 'breakpoint',\n",
       " 'bytearray',\n",
       " 'bytes',\n",
       " 'callable',\n",
       " 'chr',\n",
       " 'classmethod',\n",
       " 'compile',\n",
       " 'complex',\n",
       " 'copyright',\n",
       " 'credits',\n",
       " 'delattr',\n",
       " 'dict',\n",
       " 'dir',\n",
       " 'display',\n",
       " 'divmod',\n",
       " 'enumerate',\n",
       " 'eval',\n",
       " 'exec',\n",
       " 'execfile',\n",
       " 'filter',\n",
       " 'float',\n",
       " 'format',\n",
       " 'frozenset',\n",
       " 'get_ipython',\n",
       " 'getattr',\n",
       " 'globals',\n",
       " 'hasattr',\n",
       " 'hash',\n",
       " 'help',\n",
       " 'hex',\n",
       " 'id',\n",
       " 'input',\n",
       " 'int',\n",
       " 'isinstance',\n",
       " 'issubclass',\n",
       " 'iter',\n",
       " 'len',\n",
       " 'license',\n",
       " 'list',\n",
       " 'locals',\n",
       " 'map',\n",
       " 'max',\n",
       " 'memoryview',\n",
       " 'min',\n",
       " 'next',\n",
       " 'object',\n",
       " 'oct',\n",
       " 'open',\n",
       " 'ord',\n",
       " 'pow',\n",
       " 'print',\n",
       " 'property',\n",
       " 'range',\n",
       " 'repr',\n",
       " 'reversed',\n",
       " 'round',\n",
       " 'runfile',\n",
       " 'set',\n",
       " 'setattr',\n",
       " 'slice',\n",
       " 'sorted',\n",
       " 'staticmethod',\n",
       " 'str',\n",
       " 'sum',\n",
       " 'super',\n",
       " 'tuple',\n",
       " 'type',\n",
       " 'vars',\n",
       " 'zip']"
      ]
     },
     "execution_count": 72,
     "metadata": {},
     "output_type": "execute_result"
    }
   ],
   "source": [
    "dir(builtins)"
   ]
  },
  {
   "cell_type": "markdown",
   "id": "e4e95933-1cfc-4fb0-abf6-1f98a149b1b4",
   "metadata": {},
   "source": [
    "# Funcion type()"
   ]
  },
  {
   "cell_type": "code",
   "execution_count": 74,
   "id": "d1aae0c3-385d-4e90-8b8f-2b3d942a016f",
   "metadata": {},
   "outputs": [
    {
     "name": "stdout",
     "output_type": "stream",
     "text": [
      "570\n"
     ]
    }
   ],
   "source": [
    "my_number = 570\n",
    "print(my_number)"
   ]
  },
  {
   "cell_type": "code",
   "execution_count": 76,
   "id": "dfa2f47f-1525-4acb-977c-32cd114131c2",
   "metadata": {},
   "outputs": [
    {
     "name": "stdout",
     "output_type": "stream",
     "text": [
      "570\n",
      "<class 'int'>\n"
     ]
    }
   ],
   "source": [
    "# Entero / int\n",
    "my_number = 570\n",
    "print(my_number)\n",
    "print(type(my_number))"
   ]
  },
  {
   "cell_type": "code",
   "execution_count": 77,
   "id": "aad071e7-1979-4d28-abac-63fa8e9174a8",
   "metadata": {},
   "outputs": [
    {
     "name": "stdout",
     "output_type": "stream",
     "text": [
      "Backend Python\n",
      "<class 'str'>\n"
     ]
    }
   ],
   "source": [
    "# Cadenas / String\n",
    "my_string = \"Backend Python\"\n",
    "print(my_string)\n",
    "print(type(my_string))"
   ]
  },
  {
   "cell_type": "code",
   "execution_count": 78,
   "id": "7cc9ffc1-51ae-4c51-8439-35424fe99906",
   "metadata": {},
   "outputs": [
    {
     "name": "stdout",
     "output_type": "stream",
     "text": [
      "3.97\n",
      "<class 'float'>\n"
     ]
    }
   ],
   "source": [
    "# Flotantes / float\n",
    "my_float = 3.97\n",
    "print(my_float)\n",
    "print(type(my_float))"
   ]
  },
  {
   "cell_type": "code",
   "execution_count": 79,
   "id": "30348b23-ed99-466c-ad88-d4eaa2cecc55",
   "metadata": {},
   "outputs": [
    {
     "name": "stdout",
     "output_type": "stream",
     "text": [
      "\n",
      "<class 'str'>\n"
     ]
    }
   ],
   "source": [
    "# Cadenas / String\n",
    "my_string = \"\"\n",
    "print(my_string)\n",
    "print(type(my_string))"
   ]
  },
  {
   "cell_type": "code",
   "execution_count": 80,
   "id": "833744ad-8ddb-4718-9cb4-b3468ebd03a2",
   "metadata": {},
   "outputs": [
    {
     "name": "stdout",
     "output_type": "stream",
     "text": [
      "True\n",
      "<class 'bool'>\n"
     ]
    }
   ],
   "source": [
    "# Boolean\n",
    "my_boolean = True\n",
    "print(my_boolean)\n",
    "print(type(my_boolean))"
   ]
  },
  {
   "cell_type": "code",
   "execution_count": 81,
   "id": "19ffe1ed-0e7f-4ef9-bc04-fa5209cc2163",
   "metadata": {},
   "outputs": [
    {
     "name": "stdout",
     "output_type": "stream",
     "text": [
      "False\n",
      "<class 'bool'>\n"
     ]
    }
   ],
   "source": [
    "# Boolean\n",
    "my_boolean = False\n",
    "print(my_boolean)\n",
    "print(type(my_boolean))"
   ]
  },
  {
   "cell_type": "code",
   "execution_count": 82,
   "id": "e7a27d7a-b3a3-448e-a955-d3e77d864f4a",
   "metadata": {},
   "outputs": [
    {
     "name": "stdout",
     "output_type": "stream",
     "text": [
      "False\n",
      "<class 'str'>\n"
     ]
    }
   ],
   "source": [
    "# Cadenas / String\n",
    "my_string = \"False\"\n",
    "print(my_string)\n",
    "print(type(my_string))"
   ]
  },
  {
   "cell_type": "code",
   "execution_count": 83,
   "id": "71f1bd19-ee9a-46fd-9ae7-066825789bac",
   "metadata": {},
   "outputs": [
    {
     "name": "stdout",
     "output_type": "stream",
     "text": [
      "[1, 7, 4, 2]\n",
      "<class 'list'>\n"
     ]
    }
   ],
   "source": [
    "# Listas / list\n",
    "my_list = [1, 7, 4, 2]\n",
    "print(my_list)\n",
    "print(type(my_list))"
   ]
  },
  {
   "cell_type": "code",
   "execution_count": 84,
   "id": "9014e810-ada1-4d89-b517-9f7dd3557d06",
   "metadata": {},
   "outputs": [
    {
     "name": "stdout",
     "output_type": "stream",
     "text": [
      "(1, 7, 4, 2)\n",
      "<class 'tuple'>\n"
     ]
    }
   ],
   "source": [
    "# Tuplas / tuple\n",
    "my_tuple = (1, 7, 4, 2)\n",
    "print(my_tuple)\n",
    "print(type(my_tuple))"
   ]
  },
  {
   "cell_type": "code",
   "execution_count": 85,
   "id": "ee19afbb-8a9c-41cb-b84f-0c22ca54a4be",
   "metadata": {},
   "outputs": [
    {
     "name": "stdout",
     "output_type": "stream",
     "text": [
      "{1, 2, 4, 7}\n",
      "<class 'set'>\n"
     ]
    }
   ],
   "source": [
    "# Set\n",
    "my_set = {1, 7, 4, 2}\n",
    "print(my_set)\n",
    "print(type(my_set))"
   ]
  },
  {
   "cell_type": "code",
   "execution_count": 86,
   "id": "908ac35f-7e63-45a8-b169-1bb91091f367",
   "metadata": {},
   "outputs": [
    {
     "name": "stdout",
     "output_type": "stream",
     "text": [
      "{'a': 20, 'b': 50, 'c': 35}\n",
      "<class 'dict'>\n"
     ]
    }
   ],
   "source": [
    "# Diccionarios / dict\n",
    "my_dictionary = {\"a\":20, \"b\":50, \"c\":35}\n",
    "print(my_dictionary)\n",
    "print(type(my_dictionary))"
   ]
  },
  {
   "cell_type": "markdown",
   "id": "011f0733-dc0a-40d8-8d03-11b9898b15df",
   "metadata": {},
   "source": [
    "# \"Función id()"
   ]
  },
  {
   "cell_type": "markdown",
   "id": "39ddf25c-5ea5-42b7-95f0-a5071a3876c6",
   "metadata": {},
   "source": [
    "#### id() función para obtener la dirección de memoria"
   ]
  },
  {
   "cell_type": "code",
   "execution_count": 89,
   "id": "6e133553-6a87-417c-a474-b943fc4e08b8",
   "metadata": {},
   "outputs": [
    {
     "name": "stdout",
     "output_type": "stream",
     "text": [
      "Python\n",
      "140730090357672\n"
     ]
    }
   ],
   "source": [
    "# Cadenas / String\n",
    "my_string = \"Python\"\n",
    "print(my_string)\n",
    "print(id(my_string))"
   ]
  },
  {
   "cell_type": "code",
   "execution_count": 93,
   "id": "27a4117f-006c-4206-b942-744608200cc1",
   "metadata": {},
   "outputs": [
    {
     "name": "stdout",
     "output_type": "stream",
     "text": [
      "Backend\n",
      "2227569143536\n"
     ]
    }
   ],
   "source": [
    "# Cadenas / String\n",
    "my_string2 = \"Backend\"\n",
    "print(my_string2)\n",
    "print(id(my_string2))"
   ]
  },
  {
   "cell_type": "code",
   "execution_count": 92,
   "id": "c493633c-a0d3-41ca-829f-59a279905d6b",
   "metadata": {},
   "outputs": [
    {
     "name": "stdout",
     "output_type": "stream",
     "text": [
      "Python\n",
      "140730090357672\n",
      "Python\n",
      "140730090357672\n"
     ]
    }
   ],
   "source": [
    "# Cadenas / String\n",
    "my_string = \"Python\"\n",
    "print(my_string)\n",
    "print(id(my_string))\n",
    "my_string3 = \"Python\"\n",
    "print(my_string3)\n",
    "print(id(my_string3))"
   ]
  },
  {
   "cell_type": "markdown",
   "id": "3cae3a84-bb40-41bb-a62a-2b24859eeb7d",
   "metadata": {},
   "source": [
    "## Múltiples Valores de Entrada"
   ]
  },
  {
   "cell_type": "code",
   "execution_count": 95,
   "id": "2907bb31-187a-4ed9-85c0-69556238e81c",
   "metadata": {},
   "outputs": [
    {
     "name": "stdin",
     "output_type": "stream",
     "text": [
      "Ingresa el valor de my_number:  670\n"
     ]
    },
    {
     "name": "stdout",
     "output_type": "stream",
     "text": [
      "El valor de my_number es:  670\n"
     ]
    }
   ],
   "source": [
    "my_number = input(\"Ingresa el valor de my_number: \")\n",
    "print(\"El valor de my_number es: \",my_number)"
   ]
  },
  {
   "cell_type": "code",
   "execution_count": 106,
   "id": "88cc68c4-61a9-4423-9de8-40d70a9bbabf",
   "metadata": {},
   "outputs": [
    {
     "name": "stdin",
     "output_type": "stream",
     "text": [
      "Ingresa los tres valores:  100 200 300\n"
     ]
    },
    {
     "name": "stdout",
     "output_type": "stream",
     "text": [
      "El valor de 'a' es:  100\n",
      "El valor de 'b' es:  200\n",
      "El valor de 'c' es:  300\n"
     ]
    }
   ],
   "source": [
    "a,b,c = input(\"Ingresa los tres valores: \").split()\n",
    "print(\"El valor de \\'a\\' es: \", a)\n",
    "print(\"El valor de \\'b\\' es: \", b)\n",
    "print(\"El valor de \\'c\\' es: \", c)"
   ]
  },
  {
   "cell_type": "code",
   "execution_count": 108,
   "id": "b841e289-ad8b-451a-9479-faf9685cb86d",
   "metadata": {},
   "outputs": [
    {
     "name": "stdin",
     "output_type": "stream",
     "text": [
      "Ingresa los tres valores separados por coma:  600,seiscientos,700s\n"
     ]
    },
    {
     "name": "stdout",
     "output_type": "stream",
     "text": [
      "El valor de 'a' es:  600\n",
      "El valor de 'b' es:  seiscientos\n",
      "El valor de 'c' es:  700s\n"
     ]
    }
   ],
   "source": [
    "a,b,c = input(\"Ingresa los tres valores separados por coma: \").split(\",\")\n",
    "print(\"El valor de \\'a\\' es: \", a)\n",
    "print(\"El valor de \\'b\\' es: \", b)\n",
    "print(\"El valor de \\'c\\' es: \", c)"
   ]
  },
  {
   "cell_type": "code",
   "execution_count": null,
   "id": "754d4174-9f6a-4875-ba59-2f4514b45dbd",
   "metadata": {},
   "outputs": [],
   "source": []
  }
 ],
 "metadata": {
  "kernelspec": {
   "display_name": "Python 3 (ipykernel)",
   "language": "python",
   "name": "python3"
  },
  "language_info": {
   "codemirror_mode": {
    "name": "ipython",
    "version": 3
   },
   "file_extension": ".py",
   "mimetype": "text/x-python",
   "name": "python",
   "nbconvert_exporter": "python",
   "pygments_lexer": "ipython3",
   "version": "3.11.7"
  }
 },
 "nbformat": 4,
 "nbformat_minor": 5
}
