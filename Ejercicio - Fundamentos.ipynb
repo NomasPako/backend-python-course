{
 "cells": [
  {
   "cell_type": "markdown",
   "id": "7230ae59-5cfd-46d0-a5b7-9e6554b6e17f",
   "metadata": {},
   "source": [
    "# Numero entero"
   ]
  },
  {
   "cell_type": "code",
   "execution_count": 23,
   "id": "73516b85-518d-4b5e-8db2-904ad23f9217",
   "metadata": {},
   "outputs": [
    {
     "name": "stdin",
     "output_type": "stream",
     "text": [
      "Ingresa un valor tipo cadena\n",
      " Esto es sólo un texto xd\n"
     ]
    },
    {
     "name": "stdout",
     "output_type": "stream",
     "text": [
      "El valor ' Esto es solamente un texto xd ' es de tipo:  <class 'str'>\n"
     ]
    }
   ],
   "source": [
    "val_str = input(\"Ingresa un valor tipo cadena\\n\")\n",
    "print(\"El valor \\'\", num_str, \"\\' es de tipo: \", type(val_str))"
   ]
  },
  {
   "cell_type": "code",
   "execution_count": 24,
   "id": "84bd74bc-00bf-41b2-b0c6-792bef3af930",
   "metadata": {},
   "outputs": [
    {
     "name": "stdin",
     "output_type": "stream",
     "text": [
      "Ingresa un valor tipo entero\n",
      " 27\n"
     ]
    },
    {
     "name": "stdout",
     "output_type": "stream",
     "text": [
      "El valor ' 27 ' es de tipo:  <class 'int'>\n"
     ]
    }
   ],
   "source": [
    "val_int = input(\"Ingresa un valor tipo entero\\n\")\n",
    "print(\"El valor \\'\", val_int, \"\\' es de tipo: \", type(eval(val_int)))"
   ]
  },
  {
   "cell_type": "code",
   "execution_count": 26,
   "id": "8b17061c-b7da-47cf-be26-bfaeb4324464",
   "metadata": {},
   "outputs": [
    {
     "name": "stdin",
     "output_type": "stream",
     "text": [
      "Ingresa un valor tipo doble\n",
      " 46.2\n"
     ]
    },
    {
     "name": "stdout",
     "output_type": "stream",
     "text": [
      "El valor ' 46.2 ' es de tipo:  <class 'float'>\n"
     ]
    }
   ],
   "source": [
    "val_float = input(\"Ingresa un valor tipo doble\\n\")\n",
    "print(\"El valor \\'\", val_doble,\"\\' es de tipo: \", type(eval(val_float)))"
   ]
  },
  {
   "cell_type": "code",
   "execution_count": 28,
   "id": "b2e78ea1-ab36-4acf-9bd1-bc1aed85de61",
   "metadata": {},
   "outputs": [
    {
     "name": "stdin",
     "output_type": "stream",
     "text": [
      "Ingresa un valor de cadena, uno entero y uno flotante:\n",
      " Asi es xd,34,55.2\n"
     ]
    },
    {
     "ename": "SyntaxError",
     "evalue": "invalid syntax (<string>, line 1)",
     "output_type": "error",
     "traceback": [
      "Traceback \u001b[1;36m(most recent call last)\u001b[0m:\n",
      "\u001b[0m  File \u001b[0;32mC:\\ProgramData\\anaconda3\\Lib\\site-packages\\IPython\\core\\interactiveshell.py:3553\u001b[0m in \u001b[0;35mrun_code\u001b[0m\n    exec(code_obj, self.user_global_ns, self.user_ns)\u001b[0m\n",
      "\u001b[1;36m  Cell \u001b[1;32mIn[28], line 2\u001b[1;36m\n\u001b[1;33m    print(\"El valor 1 (\\'\", val_1,\"\\' es tipo: \", type(eval(val_1)))\u001b[1;36m\n",
      "\u001b[1;36m  File \u001b[1;32m<string>:1\u001b[1;36m\u001b[0m\n\u001b[1;33m    Asi es xd\u001b[0m\n\u001b[1;37m        ^\u001b[0m\n\u001b[1;31mSyntaxError\u001b[0m\u001b[1;31m:\u001b[0m invalid syntax\n"
     ]
    }
   ],
   "source": [
    "val_1, val_2, val_3t = input(\"Ingresa un valor de cadena, uno entero y uno flotante:\\n\").split(\",\")\n",
    "print(\"El valor 1 (\\'\", val_1,\"\\' es tipo: \", type(eval(val_1)))\n",
    "print(\"El valor 2 (\\'\", val_2,\"\\' es tipo: \", type(eval(val_2)))\n",
    "print(\"El valor 3 (\\'\", val_3,\"\\' es tipo: \", type(eval(val_3)))"
   ]
  },
  {
   "cell_type": "code",
   "execution_count": 33,
   "id": "753341dc-7d9f-4c9a-aca9-2513570ed0c7",
   "metadata": {},
   "outputs": [
    {
     "name": "stdin",
     "output_type": "stream",
     "text": [
      "Ingresa un valor de cadena, uno entero y uno flotante:\n",
      " así es xd,46,29.96\n"
     ]
    },
    {
     "name": "stdout",
     "output_type": "stream",
     "text": [
      "El valor 1 (' así es xd ') es tipo:  <class 'str'>\n",
      "El valor 2 (' 46 ') es tipo:  <class 'int'>\n",
      "El valor 3 (' 29.96 ') es tipo:  <class 'float'>\n"
     ]
    }
   ],
   "source": [
    "val_1, val_2, val_3 = input(\"Ingresa un valor de cadena, uno entero y uno flotante:\\n\").split(\",\")\n",
    "print(\"El valor 1 (\\'\", val_1,\"\\') es tipo: \", type(val_1))\n",
    "print(\"El valor 2 (\\'\", val_2,\"\\') es tipo: \", type(eval(val_2)))\n",
    "print(\"El valor 3 (\\'\", val_3,\"\\') es tipo: \", type(eval(val_3)))"
   ]
  },
  {
   "cell_type": "code",
   "execution_count": null,
   "id": "7c4a3f28-de04-43bd-a323-0ccdcbe57a30",
   "metadata": {},
   "outputs": [],
   "source": []
  }
 ],
 "metadata": {
  "kernelspec": {
   "display_name": "Python 3 (ipykernel)",
   "language": "python",
   "name": "python3"
  },
  "language_info": {
   "codemirror_mode": {
    "name": "ipython",
    "version": 3
   },
   "file_extension": ".py",
   "mimetype": "text/x-python",
   "name": "python",
   "nbconvert_exporter": "python",
   "pygments_lexer": "ipython3",
   "version": "3.11.7"
  }
 },
 "nbformat": 4,
 "nbformat_minor": 5
}
